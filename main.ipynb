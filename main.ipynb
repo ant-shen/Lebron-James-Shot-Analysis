{
 "cells": [
  {
   "cell_type": "markdown",
   "metadata": {},
   "source": [
    "# Lebron-James-Shot-Analysis\n",
    "Dany Marcha\n",
    "Anthony Shen\n",
    "name3\n",
    "name4"
   ]
  },
  {
   "cell_type": "markdown",
   "metadata": {},
   "source": [
    "Import Data"
   ]
  },
  {
   "cell_type": "code",
   "execution_count": 4,
   "metadata": {},
   "outputs": [
    {
     "name": "stdout",
     "output_type": "stream",
     "text": [
      "    GAME_ID  GAME_EVENT_ID  PLAYER_ID   PLAYER_NAME     TEAM_ID  \\\n",
      "0  20300014             20       2544  LeBron James  1610612739   \n",
      "1  20300014             28       2544  LeBron James  1610612739   \n",
      "2  20300014             35       2544  LeBron James  1610612739   \n",
      "3  20300014             39       2544  LeBron James  1610612739   \n",
      "4  20300014             54       2544  LeBron James  1610612739   \n",
      "\n",
      "             TEAM_NAME  PERIOD  MINUTES_REMAINING  SECONDS_REMAINING  \\\n",
      "0  Cleveland Cavaliers       1                  8                 56   \n",
      "1  Cleveland Cavaliers       1                  7                 44   \n",
      "2  Cleveland Cavaliers       1                  7                  1   \n",
      "3  Cleveland Cavaliers       1                  6                 29   \n",
      "4  Cleveland Cavaliers       1                  4                 48   \n",
      "\n",
      "    EVENT_TYPE  ...  SHOT_ZONE_RANGE SHOT_DISTANCE LOC_X LOC_Y  \\\n",
      "0    Made Shot  ...         8-16 ft.            15   158     0   \n",
      "1    Made Shot  ...         8-16 ft.            13  -131     2   \n",
      "2    Made Shot  ...        16-24 ft.            16   163     5   \n",
      "3  Missed Shot  ...         8-16 ft.            14  -118    92   \n",
      "4    Made Shot  ...  Less Than 8 ft.             5    54    22   \n",
      "\n",
      "  SHOT_ATTEMPTED_FLAG  SHOT_MADE_FLAG  GAME_DATE  HTM  VTM   SEASON  \n",
      "0                   1               1   20031029  SAC  CLE  2003-04  \n",
      "1                   1               1   20031029  SAC  CLE  2003-04  \n",
      "2                   1               1   20031029  SAC  CLE  2003-04  \n",
      "3                   1               0   20031029  SAC  CLE  2003-04  \n",
      "4                   1               1   20031029  SAC  CLE  2003-04  \n",
      "\n",
      "[5 rows x 24 columns]\n"
     ]
    }
   ],
   "source": [
    "import pandas as pd\n",
    "\n",
    "# Load the data from the CSV file\n",
    "data = pd.read_csv('lebron_shot_data.csv')\n",
    "\n",
    "# Display the first few rows of the dataframe to check it's loaded correctly\n",
    "print(data.head())\n"
   ]
  },
  {
   "cell_type": "markdown",
   "metadata": {},
   "source": [
    "Clean Data"
   ]
  },
  {
   "cell_type": "code",
   "execution_count": 5,
   "metadata": {},
   "outputs": [],
   "source": [
    "# Remove duplicate rows, if any\n",
    "data.drop_duplicates(inplace=True)\n",
    "\n",
    "# Reset index if needed after dropping rows\n",
    "data.reset_index(drop=True, inplace=True)"
   ]
  },
  {
   "cell_type": "markdown",
   "metadata": {},
   "source": [
    "Descriptive Statistics: Calculate mean, median, and mode for various quantitative aspects like shot distance, shot accuracy, and points scored per game."
   ]
  }
 ],
 "metadata": {
  "kernelspec": {
   "display_name": "Python 3",
   "language": "python",
   "name": "python3"
  },
  "language_info": {
   "codemirror_mode": {
    "name": "ipython",
    "version": 3
   },
   "file_extension": ".py",
   "mimetype": "text/x-python",
   "name": "python",
   "nbconvert_exporter": "python",
   "pygments_lexer": "ipython3",
   "version": "3.8.5"
  }
 },
 "nbformat": 4,
 "nbformat_minor": 2
}
